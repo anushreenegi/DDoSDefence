{
 "cells": [
  {
   "cell_type": "markdown",
   "metadata": {},
   "source": [
    "### Library imports"
   ]
  },
  {
   "cell_type": "code",
   "execution_count": 1,
   "metadata": {
    "collapsed": true
   },
   "outputs": [],
   "source": [
    "%matplotlib inline\n",
    "# package for scientific computing with Python\n",
    "import numpy as np\n",
    "# Data structure and data analysis tool\n",
    "import pandas as pd\n",
    "\n",
    "# sklearn is machine learning library for the Python\n",
    "from sklearn import preprocessing\n",
    "# K-means clustering algo\n",
    "from sklearn.cluster import KMeans\n",
    "# Support vector machine library\n",
    "from sklearn import svm\n",
    "# Principal component analysis (PCA) module\n",
    "from sklearn.decomposition import PCA\n",
    "\n",
    "#OS moduled for file oprations\n",
    "import os\n",
    "#CSV module\n",
    "import csv\n",
    "# Data plotting libraries\n",
    "import matplotlib.pyplot as plt\n",
    "# File operation libraries\n",
    "import shutil\n",
    "import glob\n",
    "# Math functions\n",
    "import math"
   ]
  },
  {
   "cell_type": "markdown",
   "metadata": {},
   "source": [
    "### Declare and define file/folders for storing/retrieving data for analysis"
   ]
  },
  {
   "cell_type": "code",
   "execution_count": 2,
   "metadata": {
    "collapsed": true
   },
   "outputs": [],
   "source": [
    "#Base Folder Paths\n",
    "base_folder_name = 'converted'\n",
    "test_folder_name = 'test2'\n",
    "base_path = os.path.join(base_folder_name, test_folder_name)\n",
    "#Normal Sample and cluster paths\n",
    "sample_dir_name = 'samp'\n",
    "sample_path = os.path.join(base_path, sample_dir_name)\n",
    "#If sample folder exist\n",
    "if os.path.isdir(sample_path):\n",
    "    #Test and Train data Folders\n",
    "    sample_train_path = os.path.join(base_path, sample_dir_name+'_train')\n",
    "    os.makedirs(sample_train_path, exist_ok=True)\n",
    "    sample_test_path = os.path.join(base_path, sample_dir_name+'_test')\n",
    "    os.makedirs(sample_test_path, exist_ok=True)\n",
    "    #Clustering folders\n",
    "    cluster_train_path = os.path.join(sample_train_path, 'cluster')\n",
    "    os.makedirs(cluster_train_path, exist_ok=True)\n",
    "    cluster_test_path = os.path.join(sample_test_path, 'cluster')\n",
    "    os.makedirs(cluster_test_path, exist_ok=True)  "
   ]
  },
  {
   "cell_type": "markdown",
   "metadata": {},
   "source": [
    "### Defining features we want to work with"
   ]
  },
  {
   "cell_type": "code",
   "execution_count": 3,
   "metadata": {
    "collapsed": true
   },
   "outputs": [],
   "source": [
    "features = [1, 6, 17] #(ICMP:1, TCP:6, UDP:17)  "
   ]
  },
  {
   "cell_type": "code",
   "execution_count": 4,
   "metadata": {
    "collapsed": false
   },
   "outputs": [],
   "source": [
    "def filter_ip(df, ip_addr):\n",
    "    \"\"\"\n",
    "    Take out ip adress that you dont want to see in trainng data\n",
    "    \n",
    "    Parameters\n",
    "    ----------\n",
    "    \n",
    "    df: panda dataframe\n",
    "        table from which processing has to be done.\n",
    "    ip_addr: string\n",
    "        IP address to be removed from table.\n",
    "    \"\"\"\n",
    "    with open(os.path.join(base_path,\"filtered_ip_feture_vector\"), \"a+\") as f:\n",
    "        df.loc[ip_addr].to_csv(f, header=False)\n",
    "    df = df.drop([ip_addr])\n",
    "    return df    "
   ]
  },
  {
   "cell_type": "markdown",
   "metadata": {},
   "source": [
    "### Creating feature tables which would be input to k-means learning algorithms"
   ]
  },
  {
   "cell_type": "code",
   "execution_count": 5,
   "metadata": {
    "collapsed": false
   },
   "outputs": [],
   "source": [
    "def get_feature_dataframe(sample_file, features):\n",
    "    \"\"\"\n",
    "    Create feature table from the sample file which has flow information\n",
    "    \n",
    "    Parameters\n",
    "    ----------\n",
    "    \n",
    "    sample_file: string\n",
    "        file(full path) containing IP layer information destination address, \n",
    "        protocol, time stamp.\n",
    "        \n",
    "    features: list\n",
    "        list of feature we required for anlysis.\n",
    "    \"\"\"\n",
    "    df = pd.read_csv(sample_file, index_col=0)\n",
    "    #Filter Columns\n",
    "    df = df[['ip.dst', 'ip.proto', 'sniff_timestamp', 'sample']]\n",
    "    #Remove null destinations\n",
    "    df = df[df['ip.dst'].notnull()]\n",
    "    #Rename Columns\n",
    "    df.columns = ['ip', 'protocol', 'time_stamp', 'sample']\n",
    "    #Get count for each ip\n",
    "    df = df.groupby(['ip', 'protocol']).size().unstack().fillna(0).astype(int)\n",
    "    #Drop row for given IP\n",
    "    #df = filter_ip(df, '147.32.84.165')        \n",
    "    if(set(df.columns) != set(features)):\n",
    "        non_columns = set(features) - set(df.columns)\n",
    "        for c in non_columns:\n",
    "            df.insert(loc=features.index(c), column=c, value=0)\n",
    "    #Select only required protocols which would be used as features\n",
    "    df = df[features]\n",
    "    return df"
   ]
  },
  {
   "cell_type": "code",
   "execution_count": 6,
   "metadata": {
    "collapsed": false
   },
   "outputs": [],
   "source": [
    "filenames = sorted(glob.glob(os.path.join(sample_path,'*')),  key=os.path.getmtime)\n",
    "df = get_feature_dataframe(filenames[0], features)"
   ]
  },
  {
   "cell_type": "code",
   "execution_count": 7,
   "metadata": {
    "collapsed": false
   },
   "outputs": [
    {
     "data": {
      "text/html": [
       "<div>\n",
       "<style>\n",
       "    .dataframe thead tr:only-child th {\n",
       "        text-align: right;\n",
       "    }\n",
       "\n",
       "    .dataframe thead th {\n",
       "        text-align: left;\n",
       "    }\n",
       "\n",
       "    .dataframe tbody tr th {\n",
       "        vertical-align: top;\n",
       "    }\n",
       "</style>\n",
       "<table border=\"1\" class=\"dataframe\">\n",
       "  <thead>\n",
       "    <tr style=\"text-align: right;\">\n",
       "      <th>protocol</th>\n",
       "      <th>1</th>\n",
       "      <th>6</th>\n",
       "      <th>17</th>\n",
       "    </tr>\n",
       "    <tr>\n",
       "      <th>ip</th>\n",
       "      <th></th>\n",
       "      <th></th>\n",
       "      <th></th>\n",
       "    </tr>\n",
       "  </thead>\n",
       "  <tbody>\n",
       "    <tr>\n",
       "      <th>104.107.0.221</th>\n",
       "      <td>0</td>\n",
       "      <td>21</td>\n",
       "      <td>0</td>\n",
       "    </tr>\n",
       "    <tr>\n",
       "      <th>104.107.1.225</th>\n",
       "      <td>0</td>\n",
       "      <td>340</td>\n",
       "      <td>0</td>\n",
       "    </tr>\n",
       "    <tr>\n",
       "      <th>104.107.30.247</th>\n",
       "      <td>0</td>\n",
       "      <td>59</td>\n",
       "      <td>0</td>\n",
       "    </tr>\n",
       "    <tr>\n",
       "      <th>104.107.6.192</th>\n",
       "      <td>0</td>\n",
       "      <td>321</td>\n",
       "      <td>0</td>\n",
       "    </tr>\n",
       "    <tr>\n",
       "      <th>104.107.6.212</th>\n",
       "      <td>0</td>\n",
       "      <td>55</td>\n",
       "      <td>0</td>\n",
       "    </tr>\n",
       "  </tbody>\n",
       "</table>\n",
       "</div>"
      ],
      "text/plain": [
       "protocol        1    6   17\n",
       "ip                         \n",
       "104.107.0.221    0   21   0\n",
       "104.107.1.225    0  340   0\n",
       "104.107.30.247   0   59   0\n",
       "104.107.6.192    0  321   0\n",
       "104.107.6.212    0   55   0"
      ]
     },
     "execution_count": 7,
     "metadata": {},
     "output_type": "execute_result"
    }
   ],
   "source": [
    "df.head()"
   ]
  },
  {
   "cell_type": "code",
   "execution_count": 8,
   "metadata": {
    "collapsed": true
   },
   "outputs": [],
   "source": [
    "#Merge sample files to create bigger sameple\n",
    "def merge_files(files, merge_count, features):\n",
    "    \"\"\"\n",
    "    Merge feature sample file to form bigger samples.\n",
    "    \n",
    "    Parameters\n",
    "    ----------\n",
    "    files: list\n",
    "        all the sample files,\n",
    "    \n",
    "    merge_count: int\n",
    "        number of files to be merged.\n",
    "    \n",
    "    features: list\n",
    "        list of features\n",
    "    \n",
    "    \"\"\"\n",
    "    if len(files) < merge_count:\n",
    "        print('Too few file to merge')\n",
    "        return\n",
    "    dfs = []\n",
    "    count = 0\n",
    "    for file in files:\n",
    "        if count == 0:\n",
    "            df = get_feature_dataframe(file, features)\n",
    "            count += 1\n",
    "        else:\n",
    "            temp_df = get_feature_dataframe(file, features)\n",
    "            df = df.append(temp_df)\n",
    "            count += 1\n",
    "        if count == merge_count:\n",
    "            df = df.groupby(df.index).sum()\n",
    "            dfs.append(df)\n",
    "            count = 0\n",
    "    return dfs"
   ]
  },
  {
   "cell_type": "code",
   "execution_count": 9,
   "metadata": {
    "collapsed": false
   },
   "outputs": [],
   "source": [
    "def create_train_test(sample_path, features, merge_count=1):\n",
    "    \"\"\"\n",
    "    Seperate data into train and test for the evaluation of the algorithms\n",
    "    \n",
    "    Parameters\n",
    "    ----------\n",
    "    \n",
    "    sample_path: string\n",
    "        location where all the packet sample files are kept\n",
    "    \n",
    "    merge_count: int, default 1\n",
    "        Number of files to be merged to create a feature table\n",
    "        \n",
    "    feature: list\n",
    "        List of features to be considered for creating feature table\n",
    "    \"\"\"\n",
    "    files = sorted(glob.glob(os.path.join(sample_path,'*')),  key=os.path.getmtime)\n",
    "    \n",
    "    test_files = files[:merge_count]\n",
    "    train_files = files[merge_count:]\n",
    "    \n",
    "    test_dfs = merge_files(test_files, merge_count, features)\n",
    "    train_dfs = merge_files(train_files, merge_count, features)\n",
    "    \n",
    "    return train_dfs, test_dfs, merge_count"
   ]
  },
  {
   "cell_type": "markdown",
   "metadata": {},
   "source": [
    "#### Create train and test data frames"
   ]
  },
  {
   "cell_type": "code",
   "execution_count": 10,
   "metadata": {
    "collapsed": false
   },
   "outputs": [],
   "source": [
    "train_dfs, test_dfs, merge_count = create_train_test(sample_path, features)"
   ]
  },
  {
   "cell_type": "code",
   "execution_count": 11,
   "metadata": {
    "collapsed": false
   },
   "outputs": [
    {
     "data": {
      "text/html": [
       "<div>\n",
       "<style>\n",
       "    .dataframe thead tr:only-child th {\n",
       "        text-align: right;\n",
       "    }\n",
       "\n",
       "    .dataframe thead th {\n",
       "        text-align: left;\n",
       "    }\n",
       "\n",
       "    .dataframe tbody tr th {\n",
       "        vertical-align: top;\n",
       "    }\n",
       "</style>\n",
       "<table border=\"1\" class=\"dataframe\">\n",
       "  <thead>\n",
       "    <tr style=\"text-align: right;\">\n",
       "      <th>protocol</th>\n",
       "      <th>1</th>\n",
       "      <th>6</th>\n",
       "      <th>17</th>\n",
       "    </tr>\n",
       "    <tr>\n",
       "      <th>ip</th>\n",
       "      <th></th>\n",
       "      <th></th>\n",
       "      <th></th>\n",
       "    </tr>\n",
       "  </thead>\n",
       "  <tbody>\n",
       "    <tr>\n",
       "      <th>104.107.0.221</th>\n",
       "      <td>0</td>\n",
       "      <td>18</td>\n",
       "      <td>0</td>\n",
       "    </tr>\n",
       "    <tr>\n",
       "      <th>104.107.1.225</th>\n",
       "      <td>0</td>\n",
       "      <td>5</td>\n",
       "      <td>0</td>\n",
       "    </tr>\n",
       "    <tr>\n",
       "      <th>104.107.30.247</th>\n",
       "      <td>0</td>\n",
       "      <td>6</td>\n",
       "      <td>0</td>\n",
       "    </tr>\n",
       "    <tr>\n",
       "      <th>104.107.6.212</th>\n",
       "      <td>0</td>\n",
       "      <td>4</td>\n",
       "      <td>0</td>\n",
       "    </tr>\n",
       "    <tr>\n",
       "      <th>104.16.230.152</th>\n",
       "      <td>0</td>\n",
       "      <td>14</td>\n",
       "      <td>0</td>\n",
       "    </tr>\n",
       "  </tbody>\n",
       "</table>\n",
       "</div>"
      ],
      "text/plain": [
       "protocol        1   6   17\n",
       "ip                        \n",
       "104.107.0.221    0  18   0\n",
       "104.107.1.225    0   5   0\n",
       "104.107.30.247   0   6   0\n",
       "104.107.6.212    0   4   0\n",
       "104.16.230.152   0  14   0"
      ]
     },
     "execution_count": 11,
     "metadata": {},
     "output_type": "execute_result"
    }
   ],
   "source": [
    "train_dfs[0].head()"
   ]
  },
  {
   "cell_type": "markdown",
   "metadata": {},
   "source": [
    "#### Save merge count which will be used for merging the files to form larger sample."
   ]
  },
  {
   "cell_type": "code",
   "execution_count": 12,
   "metadata": {
    "collapsed": false
   },
   "outputs": [],
   "source": [
    "np.savetxt(os.path.join(base_path, 'merge_count'), \n",
    "           np.asarray(merge_count).reshape(1,), fmt='%d')"
   ]
  },
  {
   "cell_type": "markdown",
   "metadata": {},
   "source": [
    "#### Store train and test tables on the file system"
   ]
  },
  {
   "cell_type": "code",
   "execution_count": 13,
   "metadata": {
    "collapsed": false
   },
   "outputs": [],
   "source": [
    "#Write train and test data to file\n",
    "train_files = []\n",
    "for i, df in enumerate(train_dfs, 1):\n",
    "    train_file = os.path.join(sample_train_path,str(i))\n",
    "    df.to_csv(train_file)\n",
    "    train_files.append(train_file)\n",
    "test_files = []    \n",
    "for i, df in enumerate(test_dfs, 1):\n",
    "    test_file = os.path.join(sample_test_path,str(i))\n",
    "    df.to_csv(test_file)\n",
    "    test_files.append(test_file)"
   ]
  },
  {
   "cell_type": "markdown",
   "metadata": {},
   "source": [
    "## k-means Clustering"
   ]
  },
  {
   "cell_type": "markdown",
   "metadata": {},
   "source": [
    "### Functions for finding optimal number of clusters for k-means clustering algorithm using elbow method."
   ]
  },
  {
   "cell_type": "code",
   "execution_count": 14,
   "metadata": {
    "collapsed": true
   },
   "outputs": [],
   "source": [
    "#Find optimal number of clusters for k-means clustering using elbow method.\n",
    "def elbow_method(X_trans, ax, title):\n",
    "    \"\"\"\n",
    "    For the k-means algorithm, elbow method check the percent of \n",
    "    variance explained as function of the number of clusters. \n",
    "    Variance for each cluster number is calculated and the cluster \n",
    "    number which produce less variance for the next cluster number \n",
    "    is selected as best choice.\n",
    "    \n",
    "    Parameters\n",
    "    ----------\n",
    "    \n",
    "    X_tran: vector\n",
    "        Standardize vector.\n",
    "    \"\"\"\n",
    "    elbow_count = 0\n",
    "    range_val = 10\n",
    "    nc = range(1, range_val)\n",
    "    kmeans = [KMeans(n_clusters=i) for i in nc]\n",
    "    score = [kmeans[i].fit(X_trans).score(X_trans) for i in range(len(kmeans))]\n",
    "    total_diff = abs(score[0] - score[len(score) -1])\n",
    "    for i in range(range_val - 2):\n",
    "        percent_diff = abs(score[i] - score[i+1])/total_diff\n",
    "        if percent_diff < 0.01:\n",
    "            opt_clust_count = i\n",
    "            break\n",
    "    ax.plot(nc,score)\n",
    "    ax.set_xlabel('Number of clusters')\n",
    "    ax.set_ylabel('Percent of variance explained')\n",
    "    ax.set_title(title)\n",
    "    return opt_clust_count"
   ]
  },
  {
   "cell_type": "code",
   "execution_count": 15,
   "metadata": {
    "collapsed": false
   },
   "outputs": [],
   "source": [
    "def get_optimal_cluster_count(df_list, count):\n",
    "    \"\"\"\n",
    "    Apply elbow method on all the sample vectors and get their mean as \n",
    "    the best cluster number for kmeans algorithm.\n",
    "    \n",
    "    Parameters\n",
    "    ----------\n",
    "    \n",
    "    df_list: list of dataframes\n",
    "        contain tables/dataframes for each sample data.\n",
    "        \n",
    "    count: int\n",
    "        Number of sample to loop t.\n",
    "    \"\"\"\n",
    "    elbow_vals = []\n",
    "    row_count = math.ceil(count/2)\n",
    "    fig = plt.figure(figsize=(10, 4*row_count), dpi=80, facecolor='w', edgecolor='k')\n",
    "    fig.subplots_adjust(hspace=.5) #Adjust space between the subplot\n",
    "    for i, df in enumerate(df_list[:count], 1):\n",
    "        X = df.values\n",
    "        #Create scaling and transforme\n",
    "        X_trans = preprocessing.StandardScaler().fit_transform(X)\n",
    "        #Create subplot\n",
    "        ax = fig.add_subplot(row_count, 2, i)\n",
    "        title = 'Sample:'+str(i)\n",
    "        fig.suptitle('Elbow Method', fontsize=16)\n",
    "        elbow = elbow_method(X_trans, ax, title)\n",
    "        elbow_vals.append(elbow)\n",
    "    plt.savefig('elbow-method.png')\n",
    "    return int(np.floor(np.mean(elbow_vals)))"
   ]
  },
  {
   "cell_type": "markdown",
   "metadata": {},
   "source": [
    "#### Get the optimal cluster count"
   ]
  },
  {
   "cell_type": "code",
   "execution_count": 16,
   "metadata": {
    "collapsed": true
   },
   "outputs": [],
   "source": [
    "sample_count = 4 #Number of samples to be used for elbow method"
   ]
  },
  {
   "cell_type": "code",
   "execution_count": 17,
   "metadata": {
    "collapsed": false
   },
   "outputs": [
    {
     "name": "stderr",
     "output_type": "stream",
     "text": [
      "/home/arpit/anaconda3/envs/py36/lib/python3.6/site-packages/sklearn/utils/validation.py:475: DataConversionWarning: Data with input dtype int64 was converted to float64 by StandardScaler.\n",
      "  warnings.warn(msg, DataConversionWarning)\n"
     ]
    },
    {
     "data": {
      "image/png": "[encoded data removed]",
      "text/plain": [
       "<matplotlib.figure.Figure at 0x7f0adcd91320>"
      ]
     },
     "metadata": {},
     "output_type": "display_data"
    }
   ],
   "source": [
    "cluster_count = get_optimal_cluster_count(train_dfs, sample_count)"
   ]
  },
  {
   "cell_type": "code",
   "execution_count": 18,
   "metadata": {
    "collapsed": false
   },
   "outputs": [
    {
     "data": {
      "text/plain": [
       "4"
      ]
     },
     "execution_count": 18,
     "metadata": {},
     "output_type": "execute_result"
    }
   ],
   "source": [
    "cluster_count"
   ]
  },
  {
   "cell_type": "markdown",
   "metadata": {},
   "source": [
    "### Functions for finding and storing the centroid which would be used for all k-means clustering."
   ]
  },
  {
   "cell_type": "code",
   "execution_count": 19,
   "metadata": {
    "collapsed": true
   },
   "outputs": [],
   "source": [
    "def get_kmeans_centroid(feature_df, cluster_count):\n",
    "    \"\"\" \n",
    "    Run the k-means algorithm on input data vector and find out the \n",
    "    centroid for each cluster then return that centroid in the\n",
    "    form of table\n",
    "    \n",
    "    Parameters\n",
    "    ----------\n",
    "    \n",
    "    feature_df: table/dataframe\n",
    "        vector on which the k-means algorithm is be applied\n",
    "        \n",
    "    cluster_count: int\n",
    "        Number of clusters to be used for k-means clustering\n",
    "    \"\"\"\n",
    "    df_centroid = {}\n",
    "    X = feature_df.values\n",
    "    #Create scaling\n",
    "    scaler = preprocessing.StandardScaler().fit(X)\n",
    "    #Transform Training data\n",
    "    X_trans = scaler.transform(X)\n",
    "    #Data Fitting using K-means\n",
    "    kmeans = KMeans(n_clusters=cluster_count)\n",
    "    kmeans.fit(X_trans)\n",
    "    #Create cluster data-frame for saving on file system\n",
    "    #Dataframe 0 contain all the clusters centers associated with 0th cluster\n",
    "    first = True\n",
    "    for i in range(kmeans.cluster_centers_.shape[0]):\n",
    "        s = pd.Series(kmeans.cluster_centers_[i], index=feature_df.columns)\n",
    "        if(first):\n",
    "            df_centroid = pd.DataFrame(columns=feature_df.columns)\n",
    "            first = False\n",
    "        df_centroid = df_centroid.append(s,ignore_index=True)\n",
    "    return df_centroid"
   ]
  },
  {
   "cell_type": "code",
   "execution_count": 20,
   "metadata": {
    "collapsed": false
   },
   "outputs": [],
   "source": [
    "def get_kmeans_cluster_centroids(sample_frames, features, cluster_count):\n",
    "    \"\"\"\n",
    "    This function will first find all cluster centroids for all the \n",
    "    training sample vectors and then calculate the median of each \n",
    "    cluster over all the samples. This median would be the best guess \n",
    "    of the centroid for all the training vectors and also would be use\n",
    "    for evaluation.\n",
    "    \n",
    "    Parameters\n",
    "    ----------\n",
    "    \n",
    "    sample_frames: list\n",
    "        list of feature vector datafames.\n",
    "        \n",
    "    features: list\n",
    "        list of feature.\n",
    "        \n",
    "    cluster_count: int\n",
    "        number of clusters to be considered for k-means clustering.\n",
    "        \n",
    "    \"\"\"\n",
    "    df_concat = pd.DataFrame(columns=features)\n",
    "    for df in sample_frames:\n",
    "        #Run kmeans and get centroid\n",
    "        df_centroid = get_kmeans_centroid(df, cluster_count)\n",
    "        #Create list of centroids\n",
    "        df_concat = df_concat.append(df_centroid)\n",
    "    centroids = []\n",
    "    #Find median for each centroid and store them in file\n",
    "    for c in range(cluster_count):\n",
    "        med = np.median(df_concat.loc[c], axis=0) # e.g. df_concat.loc[0] is df of clister 0\n",
    "        centroids.append(med)\n",
    "    return centroids"
   ]
  },
  {
   "cell_type": "markdown",
   "metadata": {},
   "source": [
    "#### Find the median of all the centroid which will be better estimate of the centroid for all future k-means clustering and store it on the file system. Also store the feature list on file system:"
   ]
  },
  {
   "cell_type": "code",
   "execution_count": 21,
   "metadata": {
    "collapsed": false
   },
   "outputs": [
    {
     "name": "stderr",
     "output_type": "stream",
     "text": [
      "/home/arpit/anaconda3/envs/py36/lib/python3.6/site-packages/sklearn/utils/validation.py:475: DataConversionWarning: Data with input dtype int64 was converted to float64 by StandardScaler.\n",
      "  warnings.warn(msg, DataConversionWarning)\n"
     ]
    }
   ],
   "source": [
    "#Already define base directory path\n",
    "base_path = base_path\n",
    "#File to store centroids\n",
    "centroid_filename = 'centroids.csv'\n",
    "#File to store feature list\n",
    "features_filename = 'features.csv'\n",
    "\n",
    "#Call to find median of centroid\n",
    "centroids = get_kmeans_cluster_centroids(train_dfs, features, cluster_count)\n",
    "\n",
    "#Save centroids and features in files for future use\n",
    "np.savetxt(os.path.join(base_path, centroid_filename), \n",
    "           np.asarray(centroids), delimiter=\",\")\n",
    "np.savetxt(os.path.join(base_path, features_filename), \n",
    "           np.asarray(list(features)), delimiter=\",\")"
   ]
  },
  {
   "cell_type": "markdown",
   "metadata": {},
   "source": [
    "### After finding cluster count and the common centroids we will be doing kmeans clustering using previously calculated centroids"
   ]
  },
  {
   "cell_type": "code",
   "execution_count": 22,
   "metadata": {
    "collapsed": true
   },
   "outputs": [],
   "source": [
    "def read_centroid_features(base_path, centroid_filename, features_filename):\n",
    "    \"\"\"\n",
    "    Read previously calculated centroids and stored feature from the file system.\n",
    "    \n",
    "    Parameters\n",
    "    ----------\n",
    "    \n",
    "    base_path: string\n",
    "        folder location in which both controid and feature file are present\n",
    "    \n",
    "    centroid_filename: string\n",
    "        Name of the file in which centroid vector is stored.\n",
    "        \n",
    "    features_filename: string\n",
    "        Name of the file in which feature list is stored.\n",
    "    \n",
    "    \"\"\"\n",
    "    centroids = np.genfromtxt(os.path.join(base_path,centroid_filename), delimiter=',')\n",
    "    features = np.genfromtxt(os.path.join(base_path,features_filename), delimiter=',')\n",
    "    features = list(features.astype('int64'))\n",
    "    return centroids, features        "
   ]
  },
  {
   "cell_type": "code",
   "execution_count": 23,
   "metadata": {
    "collapsed": true
   },
   "outputs": [],
   "source": [
    "#Base directory path\n",
    "base_path = base_path #Already define\n",
    "#File to store centroids\n",
    "centroid_filename = centroid_filename #Already define\n",
    "#File to store feature list\n",
    "features_filename = features_filename #Already define\n",
    "#Get centroids and feature\n",
    "centroids, features = read_centroid_features(base_path, \n",
    "                                             centroid_filename, features_filename)"
   ]
  },
  {
   "cell_type": "code",
   "execution_count": 24,
   "metadata": {
    "collapsed": true
   },
   "outputs": [],
   "source": [
    "def draw_clusters(X, pre_centroids, ax, title):\n",
    "    \"\"\"\n",
    "    Draw clusters in 2D\n",
    "    \n",
    "    Parameters\n",
    "    ----------\n",
    "    \n",
    "    X: vector\n",
    "        vector to be clustered and plot.\n",
    "    \n",
    "    ax: object\n",
    "        pyplot subplot object for ploting the clusters.\n",
    "    \n",
    "    title: string\n",
    "        title of the plot.    \n",
    "    \n",
    "    \"\"\"\n",
    "    if X.shape[1] > 2:\n",
    "        #Use PCA component analysis for 2D visuals\n",
    "        reduced_X = PCA(n_components=2).fit_transform(X)\n",
    "        km = KMeans(n_clusters=pre_centroids.shape[0])\n",
    "        km.fit(reduced_X)\n",
    "    else:\n",
    "        reduced_X = X\n",
    "        km = KMeans(n_clusters=pre_centroids.shape[0], init=pre_centroids)\n",
    "        km.fit(reduced_X)\n",
    "   \n",
    "    # Step size of the mesh. Decrease to increase the quality of the VQ.\n",
    "    h = .01     # point in the mesh [x_min, x_max]x[y_min, y_max].\n",
    "\n",
    "    # Plot the decision boundary. For that, we will assign a color to each\n",
    "    x_min, x_max = reduced_X[:, 0].min() - 1, reduced_X[:, 0].max() + 1\n",
    "    y_min, y_max = reduced_X[:, 1].min() - 1, reduced_X[:, 1].max() + 1\n",
    "    xx, yy = np.meshgrid(np.arange(x_min, x_max, h), np.arange(y_min, y_max, h))\n",
    "\n",
    "    # Obtain labels for each point in mesh. Use last trained model.\n",
    "    Z = km.predict(np.c_[xx.ravel(), yy.ravel()])\n",
    "\n",
    "    # Put the result into a color plot\n",
    "    Z = Z.reshape(xx.shape)\n",
    "    plt.imshow(Z, interpolation='nearest',\n",
    "               extent=(xx.min(), xx.max(), yy.min(), yy.max()),\n",
    "               cmap=plt.cm.Paired,\n",
    "               aspect='auto', origin='lower')   \n",
    "    \n",
    "    #Plot the data points \n",
    "    ax.plot(reduced_X[:,0],reduced_X[:,1],  'k.', markersize=3)\n",
    "    # Plot the centroids as a white X\n",
    "    centroids = km.cluster_centers_\n",
    "    ax.scatter(centroids[:, 0], centroids[:, 1], marker='x', s=169, \n",
    "               linewidths=3, color='w', zorder=10)\n",
    "    #Set tile and boundaries of the plot\n",
    "    ax.set_title(title)\n",
    "    ax.set_xlim(x_min, x_max)\n",
    "    ax.set_ylim(y_min, y_max)\n",
    "    ax.set_xticks(())\n",
    "    ax.set_yticks(())"
   ]
  },
  {
   "cell_type": "markdown",
   "metadata": {},
   "source": [
    "### Plot k-means clustering for samples"
   ]
  },
  {
   "cell_type": "code",
   "execution_count": 25,
   "metadata": {
    "collapsed": true
   },
   "outputs": [],
   "source": [
    "def plot_kmeans_clusters(to_print_df):\n",
    "    fig = plt.figure(figsize=(10, 8), dpi=80, facecolor='w', edgecolor='k')\n",
    "    row_count = math.ceil(len(to_print_df)/2)\n",
    "    for i, df in enumerate(to_print_df, 1):\n",
    "        X = df.values\n",
    "        #Create scaling\n",
    "        X_trans = preprocessing.StandardScaler().fit_transform(X)\n",
    "        #Create subplot\n",
    "        ax = fig.add_subplot(row_count, 2, i)\n",
    "        plt.suptitle('k-means++ clustering (with PCA-reduced data)', fontsize=16)\n",
    "        title = 'Sample:'+str(i)\n",
    "        draw_clusters(X_trans, centroids, ax, title)\n",
    "    plt.savefig('kemans-clustering.png') "
   ]
  },
  {
   "cell_type": "markdown",
   "metadata": {},
   "source": [
    "#### Plot only few clusters as not all required."
   ]
  },
  {
   "cell_type": "code",
   "execution_count": 26,
   "metadata": {
    "collapsed": false
   },
   "outputs": [
    {
     "name": "stderr",
     "output_type": "stream",
     "text": [
      "/home/arpit/anaconda3/envs/py36/lib/python3.6/site-packages/sklearn/utils/validation.py:475: DataConversionWarning: Data with input dtype int64 was converted to float64 by StandardScaler.\n",
      "  warnings.warn(msg, DataConversionWarning)\n"
     ]
    },
    {
     "data": {
      "image/png": "[encoded data removed]",
      "text/plain": [
       "<matplotlib.figure.Figure at 0x7f0ad62220b8>"
      ]
     },
     "metadata": {},
     "output_type": "display_data"
    }
   ],
   "source": [
    "plot_count = 4\n",
    "to_print_df = train_dfs[:plot_count]\n",
    "plot_kmeans_clusters(to_print_df)"
   ]
  },
  {
   "cell_type": "markdown",
   "metadata": {},
   "source": [
    "### Do k-means++ clustering and save clustered output in the files"
   ]
  },
  {
   "cell_type": "code",
   "execution_count": 27,
   "metadata": {
    "collapsed": true
   },
   "outputs": [],
   "source": [
    "def kmeans_clustering(feature_df, centroids):\n",
    "    \"\"\"\n",
    "    Clustering input vector using k-means algorithm\n",
    "    \n",
    "    Parameter\n",
    "    ---------\n",
    "    feature_df: Object\n",
    "        Panda dataframe object containing input vector which\n",
    "        is to clustered using k-means.\n",
    "        \n",
    "    centroids: vector\n",
    "        Vector containing centroid values. These centroids are\n",
    "        used for clutering.\n",
    "    \n",
    "    \"\"\"\n",
    "    X = feature_df.values\n",
    "    #Create scaling\n",
    "    scaler = preprocessing.StandardScaler().fit(X)\n",
    "    #Transform Training data\n",
    "    X_trans = scaler.transform(X)\n",
    "    #k means clustering using provided centroids \n",
    "    kmeans = KMeans(n_clusters=centroids.shape[0], init=centroids)\n",
    "    clusters = kmeans.fit_predict(X_trans)\n",
    "    #Getting the labels/clusters for each IP\n",
    "    cluster_df = pd.DataFrame({'cluster': kmeans.labels_})\n",
    "    #Attaching labels to existing dataframe and return new dataframe\n",
    "    df = pd.concat([feature_df.reset_index(), cluster_df], axis=1).set_index('ip')\n",
    "    return df"
   ]
  },
  {
   "cell_type": "markdown",
   "metadata": {},
   "source": [
    "### Apply Clustering on both training data and test data. Store clustered information on the file system"
   ]
  },
  {
   "cell_type": "code",
   "execution_count": 28,
   "metadata": {
    "collapsed": true
   },
   "outputs": [],
   "source": [
    "#First retrieve the centroids and features\n",
    "centroids, features = read_centroid_features(base_path, centroid_filename, features_filename)"
   ]
  },
  {
   "cell_type": "markdown",
   "metadata": {},
   "source": [
    "#### Cluster all the samples and store them on file."
   ]
  },
  {
   "cell_type": "code",
   "execution_count": 29,
   "metadata": {
    "collapsed": false
   },
   "outputs": [
    {
     "name": "stderr",
     "output_type": "stream",
     "text": [
      "/home/arpit/anaconda3/envs/py36/lib/python3.6/site-packages/sklearn/utils/validation.py:475: DataConversionWarning: Data with input dtype int64 was converted to float64 by StandardScaler.\n",
      "  warnings.warn(msg, DataConversionWarning)\n",
      "/home/arpit/anaconda3/envs/py36/lib/python3.6/site-packages/sklearn/cluster/k_means_.py:896: RuntimeWarning: Explicit initial center position passed: performing only one init in k-means instead of n_init=10\n",
      "  return_n_iter=True)\n"
     ]
    }
   ],
   "source": [
    "centroids, features = read_centroid_features(base_path, centroid_filename, features_filename)\n",
    "for i, train_df in enumerate(train_dfs):\n",
    "    clustered_df = kmeans_clustering(train_df, centroids)\n",
    "    clustered_df.to_csv(os.path.join(cluster_train_path,str(i+1)))\n",
    "for i, test_df in enumerate(test_dfs): \n",
    "    clustered_df = kmeans_clustering(test_df, centroids)\n",
    "    clustered_df.to_csv(os.path.join(cluster_test_path,str(i+1)))    "
   ]
  },
  {
   "cell_type": "code",
   "execution_count": 30,
   "metadata": {
    "collapsed": false
   },
   "outputs": [
    {
     "name": "stdout",
     "output_type": "stream",
     "text": [
      "[[-0.18670401 -0.1530641  -0.1714228 ]\n",
      " [-0.20129645  5.42488897  5.50388427]\n",
      " [ 4.89800122 -0.32887279 -0.16209975]\n",
      " [-0.1898316  -0.31990378 -0.04803364]]\n"
     ]
    }
   ],
   "source": [
    "print(centroids)"
   ]
  },
  {
   "cell_type": "markdown",
   "metadata": {},
   "source": [
    "### Now combine clustering of all the train/test samples and find out the best cluster and average packet count for each IP "
   ]
  },
  {
   "cell_type": "code",
   "execution_count": 31,
   "metadata": {
    "collapsed": true
   },
   "outputs": [],
   "source": [
    "def get_best_cluster_sample_count(cluster_path):\n",
    "    \"\"\"\n",
    "    Get all the trained IP address and then combine training data\n",
    "    from all the sample to make best judgment about the cluster\n",
    "    in which IP address should be placed into. It also gives the\n",
    "    average number of packets flowing during the analysis time\n",
    "    which would help to determine if its truly attack or\n",
    "    just a misjudgment.\n",
    "    \n",
    "    Parameters\n",
    "    ----------\n",
    "    \n",
    "    cluster_path: string\n",
    "        directory location where the clustered samples are stored.\n",
    "    \n",
    "    \"\"\"\n",
    "    files = sorted(glob.glob(os.path.join(cluster_path,'*')),  key=os.path.getmtime)\n",
    "    first = True\n",
    "    for file in files:\n",
    "        if first:\n",
    "            df = pd.read_csv(file, index_col=0)\n",
    "            first = False\n",
    "        else:\n",
    "            temp_df = pd.read_csv(file, index_col=0)\n",
    "            df = df.append(temp_df) \n",
    "    #Fist reindex all data with IP\n",
    "    df = df.reset_index().set_index(['ip'])\n",
    "    \n",
    "    new_columns =  ['cluster', 'packet_count']\n",
    "    features = list(df.columns[:-1])\n",
    "    cluster_column = list(df.columns[-1:])\n",
    "    #Average packet count across all the samples\n",
    "    packet_count = df[features].groupby('ip').mean().sum(axis=1).astype('int64')\n",
    "    #most occuring cluster across all samples\n",
    "    cluster = df[cluster_column].groupby('ip').median().astype('int64')\n",
    "    #Create new dataframe with cluster and packet count and return new table/dataframe\n",
    "    new_df = pd.concat([cluster, packet_count], axis=1)\n",
    "    new_df.columns = new_columns\n",
    "    return new_df"
   ]
  },
  {
   "cell_type": "markdown",
   "metadata": {},
   "source": [
    "#### Get tables containing best judged cluster and average packet count"
   ]
  },
  {
   "cell_type": "code",
   "execution_count": 32,
   "metadata": {
    "collapsed": false
   },
   "outputs": [],
   "source": [
    "train_df = get_best_cluster_sample_count(cluster_train_path)\n",
    "test_df = get_best_cluster_sample_count(cluster_test_path)"
   ]
  },
  {
   "cell_type": "code",
   "execution_count": 33,
   "metadata": {
    "collapsed": false
   },
   "outputs": [
    {
     "data": {
      "text/plain": [
       "((209, 2), (161, 2))"
      ]
     },
     "execution_count": 33,
     "metadata": {},
     "output_type": "execute_result"
    }
   ],
   "source": [
    "train_df.shape, test_df.shape"
   ]
  },
  {
   "cell_type": "markdown",
   "metadata": {},
   "source": [
    "### Function for finding RI index"
   ]
  },
  {
   "cell_type": "code",
   "execution_count": 34,
   "metadata": {
    "collapsed": true
   },
   "outputs": [],
   "source": [
    "import numpy as np\n",
    "from scipy.misc import comb\n",
    "\n",
    "def get_rand_index_score(train_df, test_df):\n",
    "    r = pd.merge(train_df, test_df, left_index=True, right_index=True, how='right')\n",
    "    r = r.dropna()\n",
    "    r = r.astype(int)\n",
    "    actual_clusters = r.iloc[:,0].tolist()\n",
    "    predicted_clusters = r.iloc[:,1].tolist()    \n",
    "    \n",
    "    tp_plus_fp = comb(np.bincount(actual_clusters), 2).sum()\n",
    "    tp_plus_fn = comb(np.bincount(predicted_clusters), 2).sum()\n",
    "    A = np.c_[(actual_clusters, predicted_clusters)]\n",
    "    tp = sum(comb(np.bincount(A[A[:, 0] == i, 1]), 2).sum()\n",
    "             for i in set(actual_clusters))\n",
    "    fp = tp_plus_fp - tp\n",
    "    fn = tp_plus_fn - tp\n",
    "    tn = comb(len(A), 2) - tp - fp - fn\n",
    "    ri =  (tp + tn) / (tp + fp + fn + tn)\n",
    "    return ri"
   ]
  },
  {
   "cell_type": "markdown",
   "metadata": {},
   "source": [
    "#### Find the RI index of the clustering using the train and test comparison"
   ]
  },
  {
   "cell_type": "code",
   "execution_count": 35,
   "metadata": {
    "collapsed": false
   },
   "outputs": [
    {
     "data": {
      "text/plain": [
       "0.24224664224664225"
      ]
     },
     "execution_count": 35,
     "metadata": {},
     "output_type": "execute_result"
    }
   ],
   "source": [
    "get_rand_index_score(train_df, test_df)"
   ]
  },
  {
   "cell_type": "markdown",
   "metadata": {},
   "source": [
    "#### Save the table obtained in previous step to file system. This table would be used to compare each flow with the past to identify if its threat or not."
   ]
  },
  {
   "cell_type": "code",
   "execution_count": 36,
   "metadata": {
    "collapsed": true
   },
   "outputs": [],
   "source": [
    "#Save train result to file\n",
    "train_tag_filename = 'ip_cluster_tag_train'\n",
    "tag_file = os.path.join(base_path,train_tag_filename)\n",
    "train_df.to_csv(tag_file)\n",
    "#Save test result to file\n",
    "test_tag_filename = 'ip_cluster_tag_test'\n",
    "tag_file = os.path.join(base_path,test_tag_filename)\n",
    "test_df.to_csv(tag_file)"
   ]
  },
  {
   "cell_type": "markdown",
   "metadata": {},
   "source": [
    "## Anamoly Detection Using One Class SVM"
   ]
  },
  {
   "cell_type": "code",
   "execution_count": 37,
   "metadata": {
    "collapsed": false
   },
   "outputs": [],
   "source": [
    "#Create feature vector corrosponding to each cluster. \n",
    "#This feature vector would be used to define boundray using One Class SVM for the cluster.\n",
    "def get_clusters_feature_vectors(cluster_path):\n",
    "    cluster_dict = dict()\n",
    "    filenames = sorted(glob.glob(os.path.join(cluster_path,'*')),  key=os.path.getmtime)\n",
    "    first = True\n",
    "    for filename in filenames:\n",
    "        if first:\n",
    "            df = pd.read_csv(filename, index_col=0)\n",
    "            first = False\n",
    "        else:\n",
    "            temp_df = pd.read_csv(filename, index_col=0)\n",
    "            df = df.append(temp_df) \n",
    "            #print(df)\n",
    "            break\n",
    "    df = df.reset_index().set_index(['cluster','ip'])\n",
    "    clusters = df.index.get_level_values(0).unique()\n",
    "    for c in clusters:\n",
    "        cluster_dict[c] = df.loc[c].values\n",
    "    return cluster_dict"
   ]
  },
  {
   "cell_type": "code",
   "execution_count": 38,
   "metadata": {
    "collapsed": true
   },
   "outputs": [],
   "source": [
    "def plot_outlier_detecton(X, ax, title):\n",
    "    if X.shape[1] > 2:\n",
    "        reduced_X = PCA(n_components=2).fit_transform(X)\n",
    "    else:\n",
    "        reduced_X = X\n",
    "    \n",
    "    clf = svm.OneClassSVM(nu=0.01, kernel=\"rbf\", gamma=0.1)\n",
    "    clf.fit(reduced_X)\n",
    "    xx, yy = np.meshgrid(np.linspace(-5, 5, 500), np.linspace(-5, 5, 500))\n",
    "\n",
    "    # plot the levels lines and the points\n",
    "    Z = clf.decision_function(np.c_[xx.ravel(), yy.ravel()])\n",
    "    Z = Z.reshape(xx.shape)\n",
    "\n",
    "    ax.set_title(title)\n",
    "    ax.contourf(xx, yy, Z, levels=np.linspace(Z.min(), 0, 7), cmap=plt.cm.PuBu)\n",
    "    a = ax.contour(xx, yy, Z, levels=[0], linewidths=2, colors='darkred')\n",
    "    ax.contourf(xx, yy, Z, levels=[0, Z.max()], colors='palevioletred')\n",
    "\n",
    "    s = 40\n",
    "    b1 = ax.scatter(reduced_X[:, 0], reduced_X[:, 1], c='white', s=s, edgecolors='k')\n",
    "    #ax.set_axis('tight')\n",
    "    ax.set_xlim((-5, 5))\n",
    "    ax.set_ylim((-5, 5))\n",
    "    ax.legend([a.collections[0], b1],\n",
    "           [\"learned frontier\", \"training observations\"],\n",
    "           loc=\"upper left\")"
   ]
  },
  {
   "cell_type": "markdown",
   "metadata": {
    "collapsed": true
   },
   "source": [
    "#### Get cluster data for training One Class SVM model"
   ]
  },
  {
   "cell_type": "code",
   "execution_count": 39,
   "metadata": {
    "collapsed": false
   },
   "outputs": [],
   "source": [
    "cluster_feature_dict = get_clusters_feature_vectors(cluster_train_path)"
   ]
  },
  {
   "cell_type": "code",
   "execution_count": 40,
   "metadata": {
    "collapsed": false
   },
   "outputs": [],
   "source": [
    "#cluster_feature_dict[2]"
   ]
  },
  {
   "cell_type": "code",
   "execution_count": 41,
   "metadata": {
    "collapsed": false
   },
   "outputs": [
    {
     "name": "stderr",
     "output_type": "stream",
     "text": [
      "/home/arpit/anaconda3/envs/py36/lib/python3.6/site-packages/sklearn/utils/validation.py:475: DataConversionWarning: Data with input dtype int64 was converted to float64 by StandardScaler.\n",
      "  warnings.warn(msg, DataConversionWarning)\n"
     ]
    },
    {
     "data": {
      "image/png": "[encoded data removed]",
      "text/plain": [
       "<matplotlib.figure.Figure at 0x7f0ad62e4b38>"
      ]
     },
     "metadata": {},
     "output_type": "display_data"
    }
   ],
   "source": [
    "fig = plt.figure(figsize=(10, 8), dpi=80, facecolor='w', edgecolor='k')\n",
    "row_count = math.ceil(len(cluster_feature_dict)/2)\n",
    "for i, (cluster, X) in enumerate(cluster_feature_dict.items(), 1):\n",
    "    #Create scaling\n",
    "    X_trans = preprocessing.StandardScaler().fit_transform(X)\n",
    "    ax = fig.add_subplot(row_count, 2, i)\n",
    "    plt.suptitle('One Class SVM (with PCA-reduced data)', fontsize=16)\n",
    "    title = 'Cluster:'+str(cluster)\n",
    "    if (X_trans.shape[0] >= X_trans.shape[1]):\n",
    "        plot_outlier_detecton(X_trans, ax, title)\n",
    "plt.savefig('one-class-SVM.png')"
   ]
  },
  {
   "cell_type": "code",
   "execution_count": 42,
   "metadata": {
    "collapsed": true
   },
   "outputs": [],
   "source": [
    "def one_class_svm(feature_vector, cluster):\n",
    "    X_train = feature_vector\n",
    "    #Get scaler\n",
    "    scaler = preprocessing.StandardScaler().fit(X_train)\n",
    "    #Transform Traning data\n",
    "    X_trans = scaler.transform(X_train)\n",
    "    # fit the model\n",
    "    clf = svm.OneClassSVM(nu=0.01, kernel=\"rbf\", gamma=0.1)\n",
    "    clf.fit(X_trans)\n",
    "    clf.name = 'svm'\n",
    "    return clf, scaler"
   ]
  },
  {
   "cell_type": "code",
   "execution_count": 43,
   "metadata": {
    "collapsed": false
   },
   "outputs": [
    {
     "data": {
      "text/plain": [
       "'converted/test2/samp_train/cluster'"
      ]
     },
     "execution_count": 43,
     "metadata": {},
     "output_type": "execute_result"
    }
   ],
   "source": [
    "cluster_train_path"
   ]
  },
  {
   "cell_type": "code",
   "execution_count": 44,
   "metadata": {
    "collapsed": false
   },
   "outputs": [
    {
     "name": "stderr",
     "output_type": "stream",
     "text": [
      "/home/arpit/anaconda3/envs/py36/lib/python3.6/site-packages/sklearn/utils/validation.py:475: DataConversionWarning: Data with input dtype int64 was converted to float64 by StandardScaler.\n",
      "  warnings.warn(msg, DataConversionWarning)\n"
     ]
    }
   ],
   "source": [
    "clf_dict = dict()\n",
    "scaler_dict = dict()\n",
    "for cluster, df in cluster_feature_dict.items():\n",
    "    clf_dict[cluster], scaler_dict[cluster] = one_class_svm(df, cluster)"
   ]
  },
  {
   "cell_type": "code",
   "execution_count": 45,
   "metadata": {
    "collapsed": false
   },
   "outputs": [
    {
     "data": {
      "text/plain": [
       "array([-1])"
      ]
     },
     "execution_count": 45,
     "metadata": {},
     "output_type": "execute_result"
    }
   ],
   "source": [
    "#Predict for the give destination if it is normal or not\n",
    "X_test = [[0,658,0]]#[[1491,18]]\n",
    "X_test_tran = scaler_dict[0].transform(X_test)\n",
    "clf_dict[0].predict(X_test_tran)"
   ]
  },
  {
   "cell_type": "code",
   "execution_count": 46,
   "metadata": {
    "collapsed": false
   },
   "outputs": [],
   "source": [
    "#plot_outlier_detecton(X_test_tran, clf_dict[0], 'test')"
   ]
  },
  {
   "cell_type": "markdown",
   "metadata": {},
   "source": [
    "## Clustering the data captures during attack"
   ]
  },
  {
   "cell_type": "code",
   "execution_count": 47,
   "metadata": {
    "collapsed": true
   },
   "outputs": [],
   "source": [
    "#Already define base directory path\n",
    "base_path = base_path\n",
    "#File to store centroids\n",
    "centroid_filename = 'centroids.csv'\n",
    "#File to store feature list\n",
    "features_filename = 'features.csv'"
   ]
  },
  {
   "cell_type": "code",
   "execution_count": 48,
   "metadata": {
    "collapsed": true
   },
   "outputs": [],
   "source": [
    "attack_sample_dir_name = 'attack_samp'\n",
    "attack_sample_path = os.path.join(base_path, attack_sample_dir_name)\n",
    "attack_sample_train_path = os.path.join(base_path, attack_sample_dir_name+'_train')\n",
    "os.makedirs(attack_sample_train_path, exist_ok=True)\n",
    "attack_cluster_path = os.path.join(attack_sample_train_path, 'cluster')\n",
    "os.makedirs(attack_cluster_path, exist_ok=True)"
   ]
  },
  {
   "cell_type": "code",
   "execution_count": 49,
   "metadata": {
    "collapsed": true
   },
   "outputs": [],
   "source": [
    "files = sorted(glob.glob(os.path.join(attack_sample_path,'*')),  key=os.path.getmtime)\n",
    "merge_count = np.genfromtxt(os.path.join(base_path,'merge_count'))"
   ]
  },
  {
   "cell_type": "code",
   "execution_count": 50,
   "metadata": {
    "collapsed": false
   },
   "outputs": [
    {
     "data": {
      "text/plain": [
       "['converted/test2/attack_samp/1']"
      ]
     },
     "execution_count": 50,
     "metadata": {},
     "output_type": "execute_result"
    }
   ],
   "source": [
    "files"
   ]
  },
  {
   "cell_type": "code",
   "execution_count": 51,
   "metadata": {
    "collapsed": false
   },
   "outputs": [
    {
     "data": {
      "text/plain": [
       "1"
      ]
     },
     "execution_count": 51,
     "metadata": {},
     "output_type": "execute_result"
    }
   ],
   "source": [
    "int(merge_count)"
   ]
  },
  {
   "cell_type": "code",
   "execution_count": 52,
   "metadata": {
    "collapsed": false
   },
   "outputs": [],
   "source": [
    "#Get centroids and feature list\n",
    "centroids, features = read_centroid_features(base_path, centroid_filename, features_filename)"
   ]
  },
  {
   "cell_type": "code",
   "execution_count": 53,
   "metadata": {
    "collapsed": false
   },
   "outputs": [],
   "source": [
    "attack_dfs = merge_files(files, merge_count, features)"
   ]
  },
  {
   "cell_type": "code",
   "execution_count": 54,
   "metadata": {
    "collapsed": false
   },
   "outputs": [
    {
     "name": "stderr",
     "output_type": "stream",
     "text": [
      "/home/arpit/anaconda3/envs/py36/lib/python3.6/site-packages/sklearn/utils/validation.py:475: DataConversionWarning: Data with input dtype int64 was converted to float64 by StandardScaler.\n",
      "  warnings.warn(msg, DataConversionWarning)\n",
      "/home/arpit/anaconda3/envs/py36/lib/python3.6/site-packages/sklearn/cluster/k_means_.py:896: RuntimeWarning: Explicit initial center position passed: performing only one init in k-means instead of n_init=10\n",
      "  return_n_iter=True)\n"
     ]
    }
   ],
   "source": [
    "#Cluster all the samples and store them\n",
    "for i, attack_df in enumerate(attack_dfs):\n",
    "    clustered_df = kmeans_clustering(attack_df, centroids)\n",
    "    clustered_df.to_csv(os.path.join(attack_cluster_path,str(i+1)))"
   ]
  },
  {
   "cell_type": "code",
   "execution_count": 55,
   "metadata": {
    "collapsed": false
   },
   "outputs": [],
   "source": [
    "#Read clustered attack file\n",
    "files = sorted(glob.glob(os.path.join(attack_cluster_path,'*')),  key=os.path.getmtime)\n",
    "df = pd.read_csv(files[0], index_col=0)"
   ]
  },
  {
   "cell_type": "code",
   "execution_count": 56,
   "metadata": {
    "collapsed": false
   },
   "outputs": [
    {
     "data": {
      "text/plain": [
       "(26, 4)"
      ]
     },
     "execution_count": 56,
     "metadata": {},
     "output_type": "execute_result"
    }
   ],
   "source": [
    "df.shape"
   ]
  },
  {
   "cell_type": "code",
   "execution_count": 57,
   "metadata": {
    "collapsed": false
   },
   "outputs": [
    {
     "data": {
      "text/html": [
       "<div>\n",
       "<style>\n",
       "    .dataframe thead tr:only-child th {\n",
       "        text-align: right;\n",
       "    }\n",
       "\n",
       "    .dataframe thead th {\n",
       "        text-align: left;\n",
       "    }\n",
       "\n",
       "    .dataframe tbody tr th {\n",
       "        vertical-align: top;\n",
       "    }\n",
       "</style>\n",
       "<table border=\"1\" class=\"dataframe\">\n",
       "  <thead>\n",
       "    <tr style=\"text-align: right;\">\n",
       "      <th></th>\n",
       "      <th>1</th>\n",
       "      <th>6</th>\n",
       "      <th>17</th>\n",
       "      <th>cluster</th>\n",
       "    </tr>\n",
       "    <tr>\n",
       "      <th>ip</th>\n",
       "      <th></th>\n",
       "      <th></th>\n",
       "      <th></th>\n",
       "      <th></th>\n",
       "    </tr>\n",
       "  </thead>\n",
       "  <tbody>\n",
       "    <tr>\n",
       "      <th>104.208.156.39</th>\n",
       "      <td>0</td>\n",
       "      <td>2</td>\n",
       "      <td>0</td>\n",
       "      <td>3</td>\n",
       "    </tr>\n",
       "    <tr>\n",
       "      <th>172.217.10.109</th>\n",
       "      <td>0</td>\n",
       "      <td>1</td>\n",
       "      <td>0</td>\n",
       "      <td>3</td>\n",
       "    </tr>\n",
       "    <tr>\n",
       "      <th>172.217.10.110</th>\n",
       "      <td>0</td>\n",
       "      <td>1</td>\n",
       "      <td>0</td>\n",
       "      <td>3</td>\n",
       "    </tr>\n",
       "    <tr>\n",
       "      <th>172.217.10.14</th>\n",
       "      <td>0</td>\n",
       "      <td>0</td>\n",
       "      <td>4</td>\n",
       "      <td>3</td>\n",
       "    </tr>\n",
       "    <tr>\n",
       "      <th>172.217.10.227</th>\n",
       "      <td>0</td>\n",
       "      <td>0</td>\n",
       "      <td>6</td>\n",
       "      <td>3</td>\n",
       "    </tr>\n",
       "  </tbody>\n",
       "</table>\n",
       "</div>"
      ],
      "text/plain": [
       "                1  6  17  cluster\n",
       "ip                               \n",
       "104.208.156.39  0  2   0        3\n",
       "172.217.10.109  0  1   0        3\n",
       "172.217.10.110  0  1   0        3\n",
       "172.217.10.14   0  0   4        3\n",
       "172.217.10.227  0  0   6        3"
      ]
     },
     "execution_count": 57,
     "metadata": {},
     "output_type": "execute_result"
    }
   ],
   "source": [
    "df.head()"
   ]
  },
  {
   "cell_type": "code",
   "execution_count": 58,
   "metadata": {
    "collapsed": false
   },
   "outputs": [],
   "source": [
    "train_tag_filename = 'ip_cluster_tag_train'\n",
    "train_tag_file = os.path.join(base_path,train_tag_filename)\n",
    "train_df = pd.read_csv(train_tag_file, index_col=0)"
   ]
  },
  {
   "cell_type": "code",
   "execution_count": 59,
   "metadata": {
    "collapsed": false
   },
   "outputs": [
    {
     "data": {
      "text/html": [
       "<div>\n",
       "<style>\n",
       "    .dataframe thead tr:only-child th {\n",
       "        text-align: right;\n",
       "    }\n",
       "\n",
       "    .dataframe thead th {\n",
       "        text-align: left;\n",
       "    }\n",
       "\n",
       "    .dataframe tbody tr th {\n",
       "        vertical-align: top;\n",
       "    }\n",
       "</style>\n",
       "<table border=\"1\" class=\"dataframe\">\n",
       "  <thead>\n",
       "    <tr style=\"text-align: right;\">\n",
       "      <th></th>\n",
       "      <th>cluster</th>\n",
       "      <th>packet_count</th>\n",
       "    </tr>\n",
       "    <tr>\n",
       "      <th>ip</th>\n",
       "      <th></th>\n",
       "      <th></th>\n",
       "    </tr>\n",
       "  </thead>\n",
       "  <tbody>\n",
       "    <tr>\n",
       "      <th>103.20.94.1</th>\n",
       "      <td>0</td>\n",
       "      <td>22</td>\n",
       "    </tr>\n",
       "    <tr>\n",
       "      <th>104.106.251.5</th>\n",
       "      <td>0</td>\n",
       "      <td>7</td>\n",
       "    </tr>\n",
       "    <tr>\n",
       "      <th>104.106.252.58</th>\n",
       "      <td>0</td>\n",
       "      <td>337</td>\n",
       "    </tr>\n",
       "    <tr>\n",
       "      <th>104.107.0.221</th>\n",
       "      <td>0</td>\n",
       "      <td>18</td>\n",
       "    </tr>\n",
       "    <tr>\n",
       "      <th>104.107.1.225</th>\n",
       "      <td>0</td>\n",
       "      <td>5</td>\n",
       "    </tr>\n",
       "  </tbody>\n",
       "</table>\n",
       "</div>"
      ],
      "text/plain": [
       "                cluster  packet_count\n",
       "ip                                   \n",
       "103.20.94.1           0            22\n",
       "104.106.251.5         0             7\n",
       "104.106.252.58        0           337\n",
       "104.107.0.221         0            18\n",
       "104.107.1.225         0             5"
      ]
     },
     "execution_count": 59,
     "metadata": {},
     "output_type": "execute_result"
    }
   ],
   "source": [
    "train_df.head()"
   ]
  },
  {
   "cell_type": "code",
   "execution_count": 60,
   "metadata": {
    "collapsed": false
   },
   "outputs": [
    {
     "data": {
      "text/plain": [
       "22"
      ]
     },
     "execution_count": 60,
     "metadata": {},
     "output_type": "execute_result"
    }
   ],
   "source": [
    "train_df.loc['103.20.94.1']['packet_count']"
   ]
  },
  {
   "cell_type": "markdown",
   "metadata": {},
   "source": [
    "## Detection"
   ]
  },
  {
   "cell_type": "code",
   "execution_count": 61,
   "metadata": {
    "collapsed": false
   },
   "outputs": [
    {
     "name": "stdout",
     "output_type": "stream",
     "text": [
      "               packet_count  percent_increase cluster\n",
      "ip                                                   \n",
      "104.208.156.39            2        -80.000000       3\n",
      "172.217.10.110            1        -94.117647       3\n",
      "172.217.10.14             4        -93.103448       3\n",
      "172.217.10.227            6        -33.333333       3\n",
      "172.217.10.234            1        -87.500000       3\n",
      "172.217.10.238            1        -92.857143       3\n",
      "172.217.12.174            8        -55.555556       3\n",
      "172.217.9.238             4        -76.470588       3\n",
      "173.194.68.189            2        -93.548387       3\n",
      "192.168.0.4              31        -96.924603       2\n",
      "192.168.0.7           29867       1684.169654       1\n",
      "224.0.0.251               9        -95.945946       3\n",
      "65.19.96.252              2        -91.304348       3\n",
      "65.19.96.253              4        -77.777778       3\n",
      "65.52.108.76              2        -88.888889       3\n"
     ]
    }
   ],
   "source": [
    "bad_ip_df = pd.DataFrame(columns=['ip', 'packet_count', 'percent_increase', 'cluster'])\n",
    "for ip, row in df.iterrows():\n",
    "    feature_row = row[:-1]\n",
    "    cluster_value = row[-1]\n",
    "    #cluster test\n",
    "    if ip in train_df.index:\n",
    "        packet_count = feature_row.sum()\n",
    "        train_cluster = train_df.loc[ip]['cluster']\n",
    "        #Train packet count\n",
    "        train_packet_count = train_df.loc[ip]['packet_count']\n",
    "        #Check how many percent increase in the average packet count\n",
    "        percent_increase = ((packet_count - train_packet_count) / train_packet_count) * 100\n",
    "        #Check the cluster value \n",
    "        if(cluster_value == train_cluster):\n",
    "            #SVM test: Check if its inside the boundary using one class svm\n",
    "            X_test_tran = scaler_dict[cluster_value].transform([feature_row.values])\n",
    "            #Check if its inside the cluster boundry using classifier\n",
    "            prediction = clf_dict[cluster_value].predict(X_test_tran)\n",
    "            if prediction == - 1:\n",
    "                s = pd.Series([ip, packet_count, percent_increase, cluster_value], index=bad_ip_df.columns)\n",
    "                bad_ip_df = bad_ip_df.append(s, ignore_index=True)\n",
    "        else:\n",
    "            s = pd.Series([ip, packet_count, percent_increase, cluster_value], index=bad_ip_df.columns)\n",
    "            bad_ip_df = bad_ip_df.append(s, ignore_index=True)\n",
    "            \n",
    "bad_ip_df = bad_ip_df.set_index('ip')\n",
    "print(bad_ip_df)"
   ]
  },
  {
   "cell_type": "code",
   "execution_count": null,
   "metadata": {
    "collapsed": true
   },
   "outputs": [],
   "source": []
  }
 ],
 "metadata": {
  "anaconda-cloud": {},
  "kernelspec": {
   "display_name": "Python [py36]",
   "language": "python",
   "name": "Python [py36]"
  },
  "language_info": {
   "codemirror_mode": {
    "name": "ipython",
    "version": 3
   },
   "file_extension": ".py",
   "mimetype": "text/x-python",
   "name": "python",
   "nbconvert_exporter": "python",
   "pygments_lexer": "ipython3",
   "version": "3.6.3"
  }
 },
 "nbformat": 4,
 "nbformat_minor": 2
}
